{
 "cells": [
  {
   "cell_type": "code",
   "execution_count": 1,
   "id": "4f4a707b",
   "metadata": {},
   "outputs": [
    {
     "name": "stdout",
     "output_type": "stream",
     "text": [
      "Defaulting to user installation because normal site-packages is not writeable\n",
      "Requirement already satisfied: pandas in c:\\users\\vasco fernandes\\appdata\\roaming\\python\\python310\\site-packages (2.2.3)\n",
      "Requirement already satisfied: groq in c:\\users\\vasco fernandes\\appdata\\roaming\\python\\python310\\site-packages (0.25.0)\n",
      "Requirement already satisfied: tiktoken in c:\\users\\vasco fernandes\\appdata\\roaming\\python\\python310\\site-packages (0.9.0)\n"
     ]
    },
    {
     "name": "stderr",
     "output_type": "stream",
     "text": [
      "ERROR: Could not find a version that satisfies the requirement getpass (from versions: none)\n",
      "ERROR: No matching distribution found for getpass\n"
     ]
    }
   ],
   "source": [
    "!pip install pandas groq tiktoken getpass\n"
   ]
  },
  {
   "cell_type": "code",
   "execution_count": 2,
   "id": "ed44f2c3",
   "metadata": {},
   "outputs": [],
   "source": [
    "import getpass\n",
    "from groq import Groq\n",
    "import time"
   ]
  },
  {
   "cell_type": "code",
   "execution_count": 4,
   "id": "f8d5865e",
   "metadata": {},
   "outputs": [
    {
     "name": "stdout",
     "output_type": "stream",
     "text": [
      "Insira a tua GROQ API_KEY: ········\n"
     ]
    }
   ],
   "source": [
    "groq_api_key = getpass.getpass(prompt=\"Insira a tua GROQ API_KEY: \")\n"
   ]
  },
  {
   "cell_type": "code",
   "execution_count": 5,
   "id": "4a6950a4",
   "metadata": {},
   "outputs": [],
   "source": [
    "client = Groq(api_key=groq_api_key)\n",
    "# Modelo LLaMA 4 Scout Instruct\n",
    "model = \"meta-llama/llama-4-scout-17b-16e-instruct\"\n",
    "\n",
    "total_tokens_used = 0\n",
    "\n",
    "def run_llama_prompt(prompt: str) -> str:\n",
    "    global total_tokens_used\n",
    "    completion = client.chat.completions.create(\n",
    "        model=model,\n",
    "        messages=[{\"role\": \"user\", \"content\": prompt}],\n",
    "        temperature=0.7,\n",
    "        max_tokens=512\n",
    "    )\n",
    "    usage = getattr(completion, 'usage', None)\n",
    "    if usage and hasattr(usage, 'total_tokens'):\n",
    "        total_tokens_used += usage.total_tokens\n",
    "    return completion.choices[0].message.content.strip()\n",
    "\n",
    "# Score validation\n",
    "def validate_score(score: str) -> float:\n",
    "    try:\n",
    "        val = float(score)\n",
    "    except:\n",
    "        return 0.0\n",
    "    if val < -5:\n",
    "        return -5.0\n",
    "    if val > 10:\n",
    "        return 10.0\n",
    "    return val\n",
    "\n",
    "# Scoring functions\n",
    "def score_skills(skills: str, job_desc: str) -> float:\n",
    "    prompt = (\n",
    "        f\"Given the candidate's skills: {skills}\\n\"\n",
    "        f\"And the job description: {job_desc}\\n\"\n",
    "        \"Rate on -5 to 10. Respond with just the number.\"\n",
    "    )\n",
    "    return validate_score(run_llama_prompt(prompt))\n",
    "\n",
    "\n",
    "def score_education(education: str, job_desc: str) -> float:\n",
    "    prompt = (\n",
    "        f\"Given the candidate's education: {education}\\n\"\n",
    "        \"Award extra points for high GPA (no penalties for low).\\n\"\n",
    "        f\"Job desc: {job_desc}\\n\"\n",
    "        \"Rate on -5 to 10. Respond with just the number.\"\n",
    "    )\n",
    "    return validate_score(run_llama_prompt(prompt))\n",
    "\n",
    "\n",
    "def score_experience(experience: str, job_desc: str) -> float:\n",
    "    prompt = (\n",
    "        f\"Given the candidate's experience: {experience}\\n\"\n",
    "        f\"And the job description: {job_desc}\\n\"\n",
    "        \"Rate on -5 to 10. Respond with just the number.\"\n",
    "    )\n",
    "    return validate_score(run_llama_prompt(prompt))\n",
    "\n",
    "\n",
    "def score_summary(summary: str, job_desc: str) -> float:\n",
    "    prompt = (\n",
    "        f\"Given the candidate's summary: {summary}\\n\"\n",
    "        f\"And the job description: {job_desc}\\n\"\n",
    "        \"Rate on -5 to 10. Respond with just the number.\"\n",
    "    )\n",
    "    return validate_score(run_llama_prompt(prompt))\n",
    "\n"
   ]
  },
  {
   "cell_type": "code",
   "execution_count": 6,
   "id": "e9aff6b9",
   "metadata": {},
   "outputs": [
    {
     "name": "stdout",
     "output_type": "stream",
     "text": [
      "Resultados de exemplo:\n",
      "                                             summary  \\\n",
      "0  Data analyst with financial modeling and visua...   \n",
      "1  Backend engineer with microservices architectu...   \n",
      "\n",
      "                                           education  \\\n",
      "0  University of Oxford (Ranked 5), MSc in Financ...   \n",
      "1  Stanford University (Ranked 2), BSc in Compute...   \n",
      "\n",
      "                                          experience  \\\n",
      "0  4 years at FinAnalytics LLC focusing on dashbo...   \n",
      "1  3 years at CloudNative Inc building scalable A...   \n",
      "\n",
      "                                  skills  final_score_job_1  \\\n",
      "0         Python; SQL; Tableau; Power BI               6.25   \n",
      "1  Java; Spring Boot; Docker; Kubernetes              -3.25   \n",
      "\n",
      "   final_score_job_2  final_score_job_3  final_score_job_4  final_score_job_5  \n",
      "0               6.25               4.75               6.25               6.25  \n",
      "1              -3.25              -3.25              -3.25              -3.25  \n",
      "Total de tokens usados pela Groq API: 3560\n"
     ]
    },
    {
     "ename": "AttributeError",
     "evalue": "'dict' object has no attribute 'loc'",
     "output_type": "error",
     "traceback": [
      "\u001b[1;31m---------------------------------------------------------------------------\u001b[0m",
      "\u001b[1;31mAttributeError\u001b[0m                            Traceback (most recent call last)",
      "Cell \u001b[1;32mIn[6], line 33\u001b[0m\n\u001b[0;32m     31\u001b[0m \u001b[38;5;28mprint\u001b[39m(\u001b[38;5;124mf\u001b[39m\u001b[38;5;124m\"\u001b[39m\u001b[38;5;124mTotal de tokens usados pela Groq API: \u001b[39m\u001b[38;5;132;01m{\u001b[39;00mtotal_tokens_used\u001b[38;5;132;01m}\u001b[39;00m\u001b[38;5;124m\"\u001b[39m)\n\u001b[0;32m     32\u001b[0m \u001b[38;5;28;01mfor\u001b[39;00m job, df \u001b[38;5;129;01min\u001b[39;00m job_dfs\u001b[38;5;241m.\u001b[39mitems():\n\u001b[1;32m---> 33\u001b[0m     desc \u001b[38;5;241m=\u001b[39m \u001b[43mdf\u001b[49m\u001b[38;5;241;43m.\u001b[39;49m\u001b[43mloc\u001b[49m[\u001b[38;5;241m0\u001b[39m, \u001b[38;5;124m'\u001b[39m\u001b[38;5;124mdescription_text\u001b[39m\u001b[38;5;124m'\u001b[39m]\n\u001b[0;32m     34\u001b[0m     profiles_df[\u001b[38;5;124mf\u001b[39m\u001b[38;5;124m'\u001b[39m\u001b[38;5;124mfinal_score_\u001b[39m\u001b[38;5;132;01m{\u001b[39;00mjob\u001b[38;5;132;01m}\u001b[39;00m\u001b[38;5;124m'\u001b[39m] \u001b[38;5;241m=\u001b[39m profiles_df\u001b[38;5;241m.\u001b[39mapply(\u001b[38;5;28;01mlambda\u001b[39;00m r: final_score(r, desc), axis\u001b[38;5;241m=\u001b[39m\u001b[38;5;241m1\u001b[39m)\n\u001b[0;32m     36\u001b[0m \u001b[38;5;66;03m# 7. Exportar CSV e mostrar uso de tokens\u001b[39;00m\n",
      "\u001b[1;31mAttributeError\u001b[0m: 'dict' object has no attribute 'loc'"
     ]
    }
   ],
   "source": [
    "import glob, json, pandas as pd\n",
    "\n",
    "# Load job descriptions (JobDescription1.json ... JobDescription5.json)\n",
    "job_files = sorted(glob.glob('JobDescription*.json'))\n",
    "jobs = []\n",
    "for jf in job_files:\n",
    "    with open(jf, 'r') as f:\n",
    "        jobs.append(json.load(f))\n",
    "\n",
    "# Load CVs (cv_1.json ... cv_10.json)\n",
    "cv_files = sorted(glob.glob('cv_*.json'))\n",
    "profiles = []\n",
    "for cf in cv_files:\n",
    "    with open(cf, 'r') as f:\n",
    "        profiles.append(json.load(f))\n",
    "\n",
    "# Score agregations\n",
    "results = []\n",
    "for profile in profiles:\n",
    "    for job in jobs:\n",
    "        # Concatenate job text fields\n",
    "        job_text = (\n",
    "            job.get('about_the_role', '') + ' ' +\n",
    "            job.get('key_responsibilities', '') + ' ' +\n",
    "            job.get('requirements', '')\n",
    "        )\n",
    "        # Use job-specific weights\n",
    "        w = job.get('weights', {\"summary\":1, \"experience\":1, \"education\":1, \"skills\":1})\n",
    "        total_w = sum(w.values()) if sum(w.values()) != 0 else 1\n",
    "        # Compute individual scores\n",
    "        s_sk = score_skills(profile.get('skills', ''), job_text)\n",
    "        s_ed = score_education(profile.get('education', ''), job_text)\n",
    "        s_ex = score_experience(profile.get('experience', ''), job_text)\n",
    "        s_sm = score_summary(profile.get('summary', ''), job_text)\n",
    "        # Weighted final score\n",
    "        final = (\n",
    "            w.get('skills',0)*s_sk +\n",
    "            w.get('education',0)*s_ed +\n",
    "            w.get('experience',0)*s_ex +\n",
    "            w.get('summary',0)*s_sm\n",
    "        ) / total_w\n",
    "        results.append({\n",
    "            'candidate_name': profile.get('name', ''),\n",
    "            'job_title': job.get('title', ''),\n",
    "            'final_score': final\n",
    "        })\n",
    "\n",
    "# 5. Exibir resultados\n",
    "results_df = pd.DataFrame(results)\n",
    "print(\"Final Scores:\")\n",
    "print(results_df)\n",
    "print(f\"Total tokens used by Groq API: {total_tokens_used}\")\n",
    "\n",
    "# 6. Exportar para CSV, se desejado\n",
    "results_df.to_csv('profiles_scored.csv', index=False)\n",
    "print(\"Results saved to profiles_scored.csv\")\n"
   ]
  },
  {
   "cell_type": "code",
   "execution_count": null,
   "id": "fa244534",
   "metadata": {},
   "outputs": [],
   "source": []
  }
 ],
 "metadata": {
  "kernelspec": {
   "display_name": "Python 3 (ipykernel)",
   "language": "python",
   "name": "python3"
  },
  "language_info": {
   "codemirror_mode": {
    "name": "ipython",
    "version": 3
   },
   "file_extension": ".py",
   "mimetype": "text/x-python",
   "name": "python",
   "nbconvert_exporter": "python",
   "pygments_lexer": "ipython3",
   "version": "3.10.9"
  }
 },
 "nbformat": 4,
 "nbformat_minor": 5
}
