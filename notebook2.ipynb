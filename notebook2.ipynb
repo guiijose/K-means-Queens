{
 "cells": [
  {
   "cell_type": "code",
   "execution_count": 1,
   "id": "c10e95ad",
   "metadata": {},
   "outputs": [
    {
     "name": "stdout",
     "output_type": "stream",
     "text": [
      "Defaulting to user installation because normal site-packages is not writeable\n",
      "Requirement already satisfied: pandas in c:\\users\\vasco fernandes\\appdata\\roaming\\python\\python310\\site-packages (2.2.3)\n",
      "Requirement already satisfied: groq in c:\\users\\vasco fernandes\\appdata\\roaming\\python\\python310\\site-packages (0.25.0)\n",
      "Requirement already satisfied: tiktoken in c:\\users\\vasco fernandes\\appdata\\roaming\\python\\python310\\site-packages (0.9.0)\n"
     ]
    },
    {
     "name": "stderr",
     "output_type": "stream",
     "text": [
      "ERROR: Could not find a version that satisfies the requirement getpass (from versions: none)\n",
      "ERROR: No matching distribution found for getpass\n"
     ]
    }
   ],
   "source": [
    "!pip install pandas groq tiktoken getpass\n"
   ]
  },
  {
   "cell_type": "code",
   "execution_count": 2,
   "id": "da11eca6",
   "metadata": {},
   "outputs": [],
   "source": [
    "import getpass\n",
    "from groq import Groq\n",
    "import time"
   ]
  },
  {
   "cell_type": "code",
   "execution_count": 4,
   "id": "4b9c07e5",
   "metadata": {},
   "outputs": [
    {
     "name": "stdout",
     "output_type": "stream",
     "text": [
      "Insira a tua GROQ API_KEY: ········\n"
     ]
    }
   ],
   "source": [
    "groq_api_key = getpass.getpass(prompt=\"Insira a tua GROQ API_KEY: \")\n"
   ]
  },
  {
   "cell_type": "code",
   "execution_count": 5,
   "id": "91e5fc19",
   "metadata": {},
   "outputs": [],
   "source": [
    "client = Groq(api_key=groq_api_key)\n",
    "# Modelo LLaMA 4 Scout Instruct\n",
    "model = \"meta-llama/llama-4-scout-17b-16e-instruct\"\n",
    "\n",
    "total_tokens_used = 0\n",
    "\n",
    "def run_llama_prompt(prompt: str) -> str:\n",
    "    global total_tokens_used\n",
    "    completion = client.chat.completions.create(\n",
    "        model=model,\n",
    "        messages=[{\"role\": \"user\", \"content\": prompt}],\n",
    "        temperature=0.7,\n",
    "        max_tokens=512\n",
    "    )\n",
    "    usage = getattr(completion, 'usage', None)\n",
    "    if usage and hasattr(usage, 'total_tokens'):\n",
    "        total_tokens_used += usage.total_tokens\n",
    "    return completion.choices[0].message.content.strip()\n",
    "\n",
    "# Score validation\n",
    "def validate_score(score: str) -> float:\n",
    "    try:\n",
    "        val = float(score)\n",
    "    except:\n",
    "        return 0.0\n",
    "    if val < -5:\n",
    "        return -5.0\n",
    "    if val > 10:\n",
    "        return 10.0\n",
    "    return val\n",
    "\n",
    "# Scoring functions\n",
    "def score_skills(skills: str, job_desc: str) -> float:\n",
    "    prompt = (\n",
    "        f\"Given the candidate's skills: {skills}\\n\"\n",
    "        f\"And the job description: {job_desc}\\n\"\n",
    "        \"Rate on -5 to 10. Respond with just the number.\"\n",
    "    )\n",
    "    return validate_score(run_llama_prompt(prompt))\n",
    "\n",
    "\n",
    "def score_education(education: str, job_desc: str) -> float:\n",
    "    prompt = (\n",
    "        f\"Given the candidate's education: {education}\\n\"\n",
    "        \"Award extra points for high GPA (no penalties for low).\\n\"\n",
    "        f\"Job desc: {job_desc}\\n\"\n",
    "        \"Rate on -5 to 10. Respond with just the number.\"\n",
    "    )\n",
    "    return validate_score(run_llama_prompt(prompt))\n",
    "\n",
    "\n",
    "def score_experience(experience: str, job_desc: str) -> float:\n",
    "    prompt = (\n",
    "        f\"Given the candidate's experience: {experience}\\n\"\n",
    "        f\"And the job description: {job_desc}\\n\"\n",
    "        \"Rate on -5 to 10. Respond with just the number.\"\n",
    "    )\n",
    "    return validate_score(run_llama_prompt(prompt))\n",
    "\n",
    "\n",
    "def score_summary(summary: str, job_desc: str) -> float:\n",
    "    prompt = (\n",
    "        f\"Given the candidate's summary: {summary}\\n\"\n",
    "        f\"And the job description: {job_desc}\\n\"\n",
    "        \"Rate on -5 to 10. Respond with just the number.\"\n",
    "    )\n",
    "    return validate_score(run_llama_prompt(prompt))\n",
    "\n"
   ]
  },
  {
   "cell_type": "code",
   "execution_count": 11,
   "id": "8a3c56e0",
   "metadata": {},
   "outputs": [
    {
     "name": "stdout",
     "output_type": "stream",
     "text": [
      "Final Scores:\n",
      "   candidate_name                                  job_title  final_score\n",
      "0  Carla Nogueira              Directors, Data & AI Strategy         -3.6\n",
      "1  Carla Nogueira         Senior Consultant, Technology Risk         -1.1\n",
      "2  Carla Nogueira             Cybersecurity Team Recruitment         -4.5\n",
      "3  Carla Nogueira                          Financial Analyst          0.6\n",
      "4  Carla Nogueira  Consultant, Forensic & Integrity Services          1.7\n",
      "Total tokens used by Groq API: 24238\n",
      "Results saved to profiles_scored.csv\n"
     ]
    }
   ],
   "source": [
    "import json, pandas as pd\n",
    "\n",
    "# Load job descriptions (JobDescription1.json ... JobDescription5.json)\n",
    "jobs = []\n",
    "for i in range(1, 6):\n",
    "    fname = f'JobDescription{i}.json'\n",
    "    with open(fname, 'r') as f:\n",
    "        jobs.append(json.load(f))\n",
    "\n",
    "# Load apenas o CV do candidato 1 (cv_1.json)\n",
    "with open('cv_1.json', 'r') as f:\n",
    "    profile = json.load(f)\n",
    "\n",
    "# 4. Avaliação e agregação de scores\n",
    "results = []\n",
    "# Usar apenas o único profile carregado\n",
    "# profile é um dict JSON do cv_1.json\n",
    "for job in jobs:\n",
    "    # Concatenate job text fields\n",
    "    job_text = (\n",
    "        job.get('about_the_role', '') + ' ' +\n",
    "        job.get('key_responsibilities', '') + ' ' +\n",
    "        job.get('requirements', '')\n",
    "    )\n",
    "    # Use job-specific weights\n",
    "    w = job.get('weights', {\"summary\":1, \"experience\":1, \"education\":1, \"skills\":1})\n",
    "    total_w = sum(w.values()) if sum(w.values()) != 0 else 1\n",
    "    # Compute individual scores\n",
    "    s_sk = score_skills(profile.get('skills', ''), job_text)\n",
    "    s_ed = score_education(profile.get('education', ''), job_text)\n",
    "    s_ex = score_experience(profile.get('experience', ''), job_text)\n",
    "    s_sm = score_summary(profile.get('summary', ''), job_text)\n",
    "    # Weighted final score\n",
    "    final = (\n",
    "        w.get('skills',0)*s_sk +\n",
    "        w.get('education',0)*s_ed +\n",
    "        w.get('experience',0)*s_ex +\n",
    "        w.get('summary',0)*s_sm\n",
    "    ) / total_w\n",
    "    results.append({\n",
    "        'candidate_name': profile.get('name', ''),\n",
    "        'job_title': job.get('title', ''),\n",
    "        'final_score': final\n",
    "    })\n",
    "\n",
    "# 5. Exibir resultados. Exibir resultados\n",
    "results_df = pd.DataFrame(results)\n",
    "print(\"Final Scores:\")\n",
    "print(results_df)\n",
    "print(f\"Total tokens used by Groq API: {total_tokens_used}\")\n",
    "\n",
    "# 6. Exportar para CSV, se desejado\n",
    "results_df.to_csv('profiles_scored.csv', index=False)\n",
    "print(\"Results saved to profiles_scored.csv\")\n"
   ]
  },
  {
   "cell_type": "code",
   "execution_count": null,
   "id": "6f64a60b",
   "metadata": {},
   "outputs": [],
   "source": []
  }
 ],
 "metadata": {
  "kernelspec": {
   "display_name": "Python 3 (ipykernel)",
   "language": "python",
   "name": "python3"
  },
  "language_info": {
   "codemirror_mode": {
    "name": "ipython",
    "version": 3
   },
   "file_extension": ".py",
   "mimetype": "text/x-python",
   "name": "python",
   "nbconvert_exporter": "python",
   "pygments_lexer": "ipython3",
   "version": "3.10.9"
  }
 },
 "nbformat": 4,
 "nbformat_minor": 5
}
